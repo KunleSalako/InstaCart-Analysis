{
 "cells": [
  {
   "cell_type": "markdown",
   "id": "7fc127d2",
   "metadata": {},
   "source": [
    "#01.Importing libraries"
   ]
  },
  {
   "cell_type": "code",
   "execution_count": 2,
   "id": "e75ace8b",
   "metadata": {},
   "outputs": [],
   "source": [
    "#import libraries\n",
    "import pandas as pd\n",
    "import numpy as np\n",
    "import os"
   ]
  },
  {
   "cell_type": "code",
   "execution_count": 3,
   "id": "4e88cc88",
   "metadata": {},
   "outputs": [],
   "source": [
    "x = 2"
   ]
  },
  {
   "cell_type": "code",
   "execution_count": 4,
   "id": "8201e76d",
   "metadata": {},
   "outputs": [
    {
     "data": {
      "text/plain": [
       "2"
      ]
     },
     "execution_count": 4,
     "metadata": {},
     "output_type": "execute_result"
    }
   ],
   "source": [
    "x"
   ]
  },
  {
   "cell_type": "code",
   "execution_count": 5,
   "id": "7d3433e7",
   "metadata": {},
   "outputs": [
    {
     "name": "stdout",
     "output_type": "stream",
     "text": [
      "2\n"
     ]
    }
   ],
   "source": [
    "print(x)"
   ]
  },
  {
   "cell_type": "code",
   "execution_count": 6,
   "id": "5e1fd7e7",
   "metadata": {},
   "outputs": [
    {
     "data": {
      "text/plain": [
       "int"
      ]
     },
     "execution_count": 6,
     "metadata": {},
     "output_type": "execute_result"
    }
   ],
   "source": [
    "type(x)"
   ]
  },
  {
   "cell_type": "code",
   "execution_count": 10,
   "id": "ccc6bad5",
   "metadata": {},
   "outputs": [],
   "source": [
    "y = 5.678"
   ]
  },
  {
   "cell_type": "code",
   "execution_count": 11,
   "id": "7458bd74",
   "metadata": {},
   "outputs": [
    {
     "data": {
      "text/plain": [
       "float"
      ]
     },
     "execution_count": 11,
     "metadata": {},
     "output_type": "execute_result"
    }
   ],
   "source": [
    "type(y)"
   ]
  },
  {
   "cell_type": "code",
   "execution_count": 12,
   "id": "741a8938",
   "metadata": {},
   "outputs": [],
   "source": [
    "z = 'Brazil'"
   ]
  },
  {
   "cell_type": "code",
   "execution_count": 13,
   "id": "d110c992",
   "metadata": {},
   "outputs": [
    {
     "data": {
      "text/plain": [
       "str"
      ]
     },
     "execution_count": 13,
     "metadata": {},
     "output_type": "execute_result"
    }
   ],
   "source": [
    "type(z)"
   ]
  },
  {
   "cell_type": "code",
   "execution_count": 15,
   "id": "bff24021",
   "metadata": {},
   "outputs": [
    {
     "data": {
      "text/plain": [
       "str"
      ]
     },
     "execution_count": 15,
     "metadata": {},
     "output_type": "execute_result"
    }
   ],
   "source": [
    "type('mania')"
   ]
  },
  {
   "cell_type": "code",
   "execution_count": 16,
   "id": "bd300b80",
   "metadata": {},
   "outputs": [
    {
     "data": {
      "text/plain": [
       "bool"
      ]
     },
     "execution_count": 16,
     "metadata": {},
     "output_type": "execute_result"
    }
   ],
   "source": [
    "type(True)"
   ]
  },
  {
   "cell_type": "code",
   "execution_count": 17,
   "id": "8478c096",
   "metadata": {},
   "outputs": [
    {
     "data": {
      "text/plain": [
       "bool"
      ]
     },
     "execution_count": 17,
     "metadata": {},
     "output_type": "execute_result"
    }
   ],
   "source": [
    "type(False)"
   ]
  },
  {
   "cell_type": "code",
   "execution_count": 18,
   "id": "be49929b",
   "metadata": {},
   "outputs": [
    {
     "name": "stdout",
     "output_type": "stream",
     "text": [
      "2\n"
     ]
    }
   ],
   "source": [
    "print(x)"
   ]
  },
  {
   "cell_type": "code",
   "execution_count": 19,
   "id": "168d7ad8",
   "metadata": {},
   "outputs": [
    {
     "data": {
      "text/plain": [
       "4"
      ]
     },
     "execution_count": 19,
     "metadata": {},
     "output_type": "execute_result"
    }
   ],
   "source": [
    "x + 2"
   ]
  },
  {
   "cell_type": "code",
   "execution_count": 20,
   "id": "8bd2e4e2",
   "metadata": {},
   "outputs": [
    {
     "data": {
      "text/plain": [
       "6"
      ]
     },
     "execution_count": 20,
     "metadata": {},
     "output_type": "execute_result"
    }
   ],
   "source": [
    "x + 4"
   ]
  },
  {
   "cell_type": "code",
   "execution_count": 21,
   "id": "d5e7a791",
   "metadata": {},
   "outputs": [
    {
     "data": {
      "text/plain": [
       "7.678"
      ]
     },
     "execution_count": 21,
     "metadata": {},
     "output_type": "execute_result"
    }
   ],
   "source": [
    "x + y"
   ]
  },
  {
   "cell_type": "code",
   "execution_count": 22,
   "id": "7ba292eb",
   "metadata": {},
   "outputs": [],
   "source": [
    "x = x + 4"
   ]
  },
  {
   "cell_type": "code",
   "execution_count": 23,
   "id": "94e405a4",
   "metadata": {},
   "outputs": [
    {
     "name": "stdout",
     "output_type": "stream",
     "text": [
      "6\n"
     ]
    }
   ],
   "source": [
    "print(x)"
   ]
  },
  {
   "cell_type": "code",
   "execution_count": 24,
   "id": "726cda27",
   "metadata": {},
   "outputs": [
    {
     "data": {
      "text/plain": [
       "bool"
      ]
     },
     "execution_count": 24,
     "metadata": {},
     "output_type": "execute_result"
    }
   ],
   "source": [
    "type(x==y)"
   ]
  },
  {
   "cell_type": "code",
   "execution_count": 25,
   "id": "8fc5f069",
   "metadata": {},
   "outputs": [
    {
     "data": {
      "text/plain": [
       "False"
      ]
     },
     "execution_count": 25,
     "metadata": {},
     "output_type": "execute_result"
    }
   ],
   "source": [
    "x==y"
   ]
  },
  {
   "cell_type": "markdown",
   "id": "b1c8804c",
   "metadata": {},
   "source": [
    "#02.Python data types"
   ]
  },
  {
   "cell_type": "code",
   "execution_count": 26,
   "id": "d63c946d",
   "metadata": {},
   "outputs": [],
   "source": [
    "x = 60"
   ]
  },
  {
   "cell_type": "code",
   "execution_count": 27,
   "id": "6cd1e25a",
   "metadata": {},
   "outputs": [],
   "source": [
    "y = 40"
   ]
  },
  {
   "cell_type": "code",
   "execution_count": 28,
   "id": "95badef6",
   "metadata": {},
   "outputs": [
    {
     "data": {
      "text/plain": [
       "100"
      ]
     },
     "execution_count": 28,
     "metadata": {},
     "output_type": "execute_result"
    }
   ],
   "source": [
    "x + y"
   ]
  },
  {
   "cell_type": "code",
   "execution_count": 29,
   "id": "b16a7a78",
   "metadata": {},
   "outputs": [],
   "source": [
    "x=x+60"
   ]
  },
  {
   "cell_type": "code",
   "execution_count": 30,
   "id": "3e1ef2f9",
   "metadata": {},
   "outputs": [
    {
     "name": "stdout",
     "output_type": "stream",
     "text": [
      "120\n"
     ]
    }
   ],
   "source": [
    "print(x)"
   ]
  },
  {
   "cell_type": "code",
   "execution_count": 31,
   "id": "b93d1c94",
   "metadata": {},
   "outputs": [],
   "source": [
    "y=y-20"
   ]
  },
  {
   "cell_type": "code",
   "execution_count": 32,
   "id": "15dd852e",
   "metadata": {},
   "outputs": [
    {
     "name": "stdout",
     "output_type": "stream",
     "text": [
      "20\n"
     ]
    }
   ],
   "source": [
    "print(y)"
   ]
  },
  {
   "cell_type": "code",
   "execution_count": 33,
   "id": "d168bfcf",
   "metadata": {},
   "outputs": [
    {
     "data": {
      "text/plain": [
       "100"
      ]
     },
     "execution_count": 33,
     "metadata": {},
     "output_type": "execute_result"
    }
   ],
   "source": [
    "x-y"
   ]
  },
  {
   "cell_type": "code",
   "execution_count": 34,
   "id": "2639c02c",
   "metadata": {},
   "outputs": [],
   "source": [
    "x=x-100"
   ]
  },
  {
   "cell_type": "code",
   "execution_count": 35,
   "id": "a5fe7cfd",
   "metadata": {},
   "outputs": [],
   "source": [
    "y=y+60"
   ]
  },
  {
   "cell_type": "code",
   "execution_count": 36,
   "id": "6da10a29",
   "metadata": {},
   "outputs": [
    {
     "data": {
      "text/plain": [
       "100"
      ]
     },
     "execution_count": 36,
     "metadata": {},
     "output_type": "execute_result"
    }
   ],
   "source": [
    "x+y"
   ]
  },
  {
   "cell_type": "code",
   "execution_count": 37,
   "id": "b801e774",
   "metadata": {},
   "outputs": [],
   "source": [
    "a=3.6"
   ]
  },
  {
   "cell_type": "code",
   "execution_count": 38,
   "id": "6fbfb6be",
   "metadata": {},
   "outputs": [],
   "source": [
    "b=1.2"
   ]
  },
  {
   "cell_type": "code",
   "execution_count": 39,
   "id": "014d19c8",
   "metadata": {},
   "outputs": [
    {
     "data": {
      "text/plain": [
       "3.0"
      ]
     },
     "execution_count": 39,
     "metadata": {},
     "output_type": "execute_result"
    }
   ],
   "source": [
    "a/b"
   ]
  },
  {
   "cell_type": "code",
   "execution_count": 40,
   "id": "35d45ba1",
   "metadata": {},
   "outputs": [],
   "source": [
    "a=a+66.7"
   ]
  },
  {
   "cell_type": "code",
   "execution_count": 41,
   "id": "1c9f066a",
   "metadata": {},
   "outputs": [],
   "source": [
    "b=b+50"
   ]
  },
  {
   "cell_type": "code",
   "execution_count": 42,
   "id": "da500b97",
   "metadata": {},
   "outputs": [
    {
     "data": {
      "text/plain": [
       "1.3730468749999998"
      ]
     },
     "execution_count": 42,
     "metadata": {},
     "output_type": "execute_result"
    }
   ],
   "source": [
    "a/b"
   ]
  },
  {
   "cell_type": "code",
   "execution_count": 47,
   "id": "eb69d038",
   "metadata": {},
   "outputs": [],
   "source": [
    "q='Tutor,'"
   ]
  },
  {
   "cell_type": "code",
   "execution_count": 61,
   "id": "ab4307f9",
   "metadata": {},
   "outputs": [],
   "source": [
    "p='I am learning a new language, '"
   ]
  },
  {
   "cell_type": "code",
   "execution_count": 48,
   "id": "c6b7e590",
   "metadata": {},
   "outputs": [
    {
     "data": {
      "text/plain": [
       "'Tutor,I am learning a new language'"
      ]
     },
     "execution_count": 48,
     "metadata": {},
     "output_type": "execute_result"
    }
   ],
   "source": [
    "q+p"
   ]
  },
  {
   "cell_type": "code",
   "execution_count": 52,
   "id": "e4d518d3",
   "metadata": {},
   "outputs": [],
   "source": [
    "r='this is going '"
   ]
  },
  {
   "cell_type": "code",
   "execution_count": 59,
   "id": "e0597598",
   "metadata": {},
   "outputs": [],
   "source": [
    "s='to be interesting. '"
   ]
  },
  {
   "cell_type": "code",
   "execution_count": 56,
   "id": "e63b4080",
   "metadata": {},
   "outputs": [
    {
     "data": {
      "text/plain": [
       "'this is going to be interesting. '"
      ]
     },
     "execution_count": 56,
     "metadata": {},
     "output_type": "execute_result"
    }
   ],
   "source": [
    "r+s"
   ]
  },
  {
   "cell_type": "code",
   "execution_count": 62,
   "id": "40c7101b",
   "metadata": {},
   "outputs": [
    {
     "data": {
      "text/plain": [
       "'Tutor,I am learning a new language, this is going to be interesting. '"
      ]
     },
     "execution_count": 62,
     "metadata": {},
     "output_type": "execute_result"
    }
   ],
   "source": [
    "q+p+r+s"
   ]
  },
  {
   "cell_type": "code",
   "execution_count": null,
   "id": "e15d9c7b",
   "metadata": {},
   "outputs": [],
   "source": []
  }
 ],
 "metadata": {
  "kernelspec": {
   "display_name": "Python 3",
   "language": "python",
   "name": "python3"
  },
  "language_info": {
   "codemirror_mode": {
    "name": "ipython",
    "version": 3
   },
   "file_extension": ".py",
   "mimetype": "text/x-python",
   "name": "python",
   "nbconvert_exporter": "python",
   "pygments_lexer": "ipython3",
   "version": "3.8.8"
  }
 },
 "nbformat": 4,
 "nbformat_minor": 5
}
